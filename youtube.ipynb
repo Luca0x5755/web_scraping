{
 "cells": [
  {
   "cell_type": "code",
   "execution_count": 3,
   "id": "2a37bfef",
   "metadata": {},
   "outputs": [],
   "source": [
    "'''\n",
    "匯入套件\n",
    "'''\n",
    "# 操作 browser 的 API\n",
    "from selenium import webdriver\n",
    "from selenium.webdriver.chrome.service import Service\n",
    "\n",
    "# ChromeDriver 的下載管理工具\n",
    "from webdriver_manager.chrome import ChromeDriverManager\n",
    "\n",
    "# 處理逾時例外的工具\n",
    "from selenium.common.exceptions import TimeoutException\n",
    "\n",
    "# 面對動態網頁，等待某個元素出現的工具，通常與 exptected_conditions 搭配\n",
    "from selenium.webdriver.support.ui import WebDriverWait\n",
    "\n",
    "# 搭配 WebDriverWait 使用，對元素狀態的一種期待條件，若條件發生，則等待結束，往下一行執行\n",
    "from selenium.webdriver.support import expected_conditions as EC\n",
    "\n",
    "# 期待元素出現要透過什麼方式指定，通常與 EC、WebDriverWait 一起使用\n",
    "from selenium.webdriver.common.by import By\n",
    "\n",
    "# 強制等待 (執行期間休息一下)\n",
    "from time import sleep\n",
    "\n",
    "# 整理 json 使用的工具\n",
    "import json\n",
    "\n",
    "# 執行 command 的時候用的\n",
    "import os\n",
    "\n",
    "# 子處理程序，用來取代 os.system 的功能\n",
    "import subprocess\n",
    "\n",
    "# 下載檔案的工具\n",
    "import wget\n"
   ]
  },
  {
   "cell_type": "code",
   "execution_count": 4,
   "id": "ec2834a2",
   "metadata": {},
   "outputs": [],
   "source": [
    "# 啟動瀏覽器工具的選項\n",
    "my_options = webdriver.ChromeOptions()\n",
    "# my_options.add_argument(\"--headless\")                #不開啟實體瀏覽器背景執行\n",
    "my_options.add_argument(\"--start-maximized\")         #最大化視窗\n",
    "my_options.add_argument(\"--incognito\")               #開啟無痕模式\n",
    "my_options.add_argument(\"--disable-popup-blocking\") #禁用彈出攔截\n",
    "my_options.add_argument(\"--disable-notifications\")  #取消 chrome 推播通知\n",
    "my_options.add_argument(\"--lang=zh-TW\")  #設定為正體中文"
   ]
  },
  {
   "cell_type": "code",
   "execution_count": 5,
   "id": "772c9de5",
   "metadata": {},
   "outputs": [],
   "source": [
    "# 使用 Chrome 的 WebDriver\n",
    "driver = webdriver.Chrome(\n",
    "    options = my_options\n",
    ")\n",
    "\n",
    "# 建立儲存圖片、影片的資料夾\n",
    "folderPath = 'youtube'\n",
    "if not os.path.exists(folderPath):\n",
    "    os.makedirs(folderPath)"
   ]
  },
  {
   "cell_type": "code",
   "execution_count": 7,
   "id": "78ae737c",
   "metadata": {},
   "outputs": [],
   "source": [
    "# 走訪頁面\n",
    "def visit():\n",
    "    driver.get('https://www.youtube.com/')\n",
    "\n",
    "visit()"
   ]
  },
  {
   "cell_type": "code",
   "execution_count": null,
   "id": "4a06a53a",
   "metadata": {},
   "outputs": [],
   "source": [
    "# 輸入關鍵字\n",
    "def search(keyword):\n",
    "    # 輸入名稱\n",
    "    txtInput = driver.find_element(By.CSS_SELECTOR, \"input[name=search_query]\")\n",
    "    txtInput.send_keys(keyword)\n",
    "\n",
    "    # 等待一下\n",
    "    sleep(1)\n",
    "\n",
    "    # 送出表單資料\n",
    "    txtInput.submit()\n",
    "\n",
    "    # 等待一下\n",
    "    sleep(1)\n",
    "\n",
    "search(\"僕にはどうしてわかるんだろう\")\n"
   ]
  },
  {
   "cell_type": "code",
   "execution_count": null,
   "id": "97926183",
   "metadata": {},
   "outputs": [],
   "source": [
    "cmd = [\n",
    "    './yt-dlp.exe',\n",
    "    'https://www.youtube.com/watch?v=RCaTLn4qoz4&list=RDCLAK5uy_nbK9qSkqYZvtMXH1fLCMmC1yn8HEm0W90&index=4',\n",
    "    '-t', 'mp4',\n",
    "    '-o', f'{folderPath}'\n",
    "]"
   ]
  },
  {
   "cell_type": "code",
   "execution_count": null,
   "id": "d10bb93e",
   "metadata": {},
   "outputs": [],
   "source": [
    "obj_sp = subprocess.run(cmd)"
   ]
  },
  {
   "cell_type": "code",
   "execution_count": null,
   "id": "81843301",
   "metadata": {},
   "outputs": [],
   "source": []
  },
  {
   "cell_type": "code",
   "execution_count": null,
   "id": "bcdd2636",
   "metadata": {},
   "outputs": [],
   "source": []
  },
  {
   "cell_type": "code",
   "execution_count": null,
   "id": "c5b73bd3",
   "metadata": {},
   "outputs": [],
   "source": [
    "# MP3\n",
    "\n",
    "./yt-dlp.exe 'https://www.youtube.com/watch?v=QCbPn0jpju8' -t mp3 -o 'youtube/%(title)s.%(ext)s' --ffmpeg-location 'ffmpeg-master-latest-win64-gpl/bin/ffmpeg.exe' --write-thumbnail"
   ]
  },
  {
   "cell_type": "code",
   "execution_count": null,
   "id": "ef1c4fd7",
   "metadata": {},
   "outputs": [],
   "source": [
    "# MP4 高畫質\n",
    "\n",
    "./yt-dlp.exe 'https://www.youtube.com/watch?v=fmDB-HyPNYc' -f 'bv*[ext=mp4]+ba[ext=m4a]/b[ext=mp4]' -o 'youtube/%(title)s.%(ext)s' --ffmpeg-location 'ffmpeg.exe'\n"
   ]
  },
  {
   "cell_type": "code",
   "execution_count": null,
   "id": "f13ed2de",
   "metadata": {},
   "outputs": [],
   "source": [
    "from mutagen.mp3 import MP3\n",
    "from mutagen.id3 import ID3, APIC, error\n",
    "\n",
    "audio = MP3(\"youtube\\りりあ。riria. ⧸ 貴方の側に。 anata no sobani [Music Video].mp3\", ID3=ID3)\n",
    "try:\n",
    "    audio.add_tags()\n",
    "except error:\n",
    "    pass\n"
   ]
  },
  {
   "cell_type": "code",
   "execution_count": 4,
   "id": "17b6800a",
   "metadata": {},
   "outputs": [],
   "source": [
    "audio.tags.add(\n",
    "    APIC(\n",
    "        encoding=3,  # 3是UTF-8\n",
    "        mime='image/jpeg',  # 圖片類型，可用'image/png'\n",
    "        type=3,  # 3表示專輯封面\n",
    "        desc=u'Cover',\n",
    "        data=open('youtube\\りりあ。riria. ⧸ 貴方の側に。 anata no sobani [Music Video].webp', 'rb').read()  # 圖片路徑\n",
    "    )\n",
    ")\n",
    "audio.save()"
   ]
  },
  {
   "cell_type": "code",
   "execution_count": null,
   "id": "8563483b",
   "metadata": {},
   "outputs": [],
   "source": []
  }
 ],
 "metadata": {
  "kernelspec": {
   "display_name": ".venv",
   "language": "python",
   "name": "python3"
  },
  "language_info": {
   "codemirror_mode": {
    "name": "ipython",
    "version": 3
   },
   "file_extension": ".py",
   "mimetype": "text/x-python",
   "name": "python",
   "nbconvert_exporter": "python",
   "pygments_lexer": "ipython3",
   "version": "3.13.3"
  }
 },
 "nbformat": 4,
 "nbformat_minor": 5
}
